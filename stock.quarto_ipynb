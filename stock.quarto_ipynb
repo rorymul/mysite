{
  "cells": [
    {
      "cell_type": "markdown",
      "metadata": {},
      "source": [
        "---\n",
        "title: \"Stock Explorer\"\n",
        "author: \"Ty Coon\"\n",
        "format: \n",
        "  dashboard:\n",
        "    theme: [lux]\n",
        "execute:\n",
        "  kernel: mysite-venv\n",
        "\n",
        "# author: garretgman accessed 17th April 2025\n",
        "# https://github.com/jjallaire/stock-explorer-dashboard/blob/main/dashboard.qmd\n",
        "---"
      ],
      "id": "6c47e8ca"
    },
    {
      "cell_type": "code",
      "metadata": {
        "tags": [
          "parameters"
        ]
      },
      "source": [
        "# to render w/ a different ticker parameter:\n",
        "# quarto render dashboard.qmd -P ticker:GOOG\n",
        "\n",
        "ticker = \"KKR\""
      ],
      "id": "7c466faf",
      "execution_count": null,
      "outputs": []
    },
    {
      "cell_type": "code",
      "metadata": {},
      "source": [
        "import helpers\n",
        "stock = helpers.get_stock(ticker)\n",
        "data = helpers.get_data(stock)"
      ],
      "id": "fb5593f1",
      "execution_count": null,
      "outputs": []
    },
    {
      "cell_type": "markdown",
      "metadata": {},
      "source": [
        "## Row\n"
      ],
      "id": "39a04855"
    },
    {
      "cell_type": "code",
      "metadata": {},
      "source": [
        "from IPython.display import Markdown\n",
        "Markdown(\"**{symbol}** --- {longName} --- [{website}]({website})\"\n",
        "    .format(**stock.info))"
      ],
      "id": "25218718",
      "execution_count": null,
      "outputs": []
    },
    {
      "cell_type": "markdown",
      "metadata": {},
      "source": [
        "## Row\n"
      ],
      "id": "556719a8"
    },
    {
      "cell_type": "code",
      "metadata": {
        "content": "valuebox",
        "title": "Current Price"
      },
      "source": [
        "dict(\n",
        "    icon = \"currency-dollar\",\n",
        "    color = \"secondary\",\n",
        "    value = helpers.get_price(data)\n",
        ")"
      ],
      "id": "4f8f2d7a",
      "execution_count": null,
      "outputs": []
    },
    {
      "cell_type": "code",
      "metadata": {
        "content": "valuebox",
        "title": "Change"
      },
      "source": [
        "change = helpers.get_change(data)\n",
        "dict(\n",
        "    value = change['amount'],\n",
        "    icon = change['icon'],\n",
        "    color = change['color']\n",
        ") "
      ],
      "id": "8920b262",
      "execution_count": null,
      "outputs": []
    },
    {
      "cell_type": "code",
      "metadata": {
        "content": "valuebox",
        "title": "Percent Change"
      },
      "source": [
        "dict(\n",
        "    icon = \"percent\",\n",
        "    color = \"light\",\n",
        "    value = change['percent'],\n",
        ") "
      ],
      "id": "6b9df8dd",
      "execution_count": null,
      "outputs": []
    },
    {
      "cell_type": "markdown",
      "metadata": {},
      "source": [
        "## Row\n",
        "\n",
        "### Column {width=75%}\n"
      ],
      "id": "32a296db"
    },
    {
      "cell_type": "code",
      "metadata": {
        "title": "Price History",
        "padding": 0
      },
      "source": [
        "helpers.make_candlestick_chart(data, ticker.upper())"
      ],
      "id": "64ef5ece",
      "execution_count": null,
      "outputs": []
    },
    {
      "cell_type": "markdown",
      "metadata": {},
      "source": [
        "### Column {width=25%}\n"
      ],
      "id": "8d750421"
    },
    {
      "cell_type": "code",
      "metadata": {},
      "source": [
        "ohlc = helpers.make_OHLC_table(data)"
      ],
      "id": "f4f2852d",
      "execution_count": null,
      "outputs": []
    },
    {
      "cell_type": "markdown",
      "metadata": {},
      "source": [
        "::: {.card}\n",
        "\n",
        "#### Last Close: `{python} ohlc['date']`\n",
        "\n",
        "| Close\t | `{python} ohlc['close']`  |\n",
        "|:-------|--------------------------:|\n",
        "| Open\t | `{python} ohlc['open']`   |\n",
        "| High\t | `{python} ohlc['high']`   |\n",
        "| Low\t | `{python} ohlc['low']`    |\n",
        "| Volume | `{python} ohlc['volume']` |\n",
        ": {.striped}\n",
        "\n",
        ":::"
      ],
      "id": "b9e57b9b"
    }
  ],
  "metadata": {
    "kernelspec": {
      "name": "python3",
      "language": "python",
      "display_name": "Python 3 (ipykernel)",
      "path": "/Users/mulhr/mysite-1/.venv/share/jupyter/kernels/python3"
    }
  },
  "nbformat": 4,
  "nbformat_minor": 5
}