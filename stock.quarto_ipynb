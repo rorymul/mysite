{
  "cells": [
    {
      "cell_type": "markdown",
      "metadata": {},
      "source": [
        "---\n",
        "title: \"Stock Explorer\"\n",
        "author: \"Ty Coon\"\n",
        "format: \n",
        "  dashboard:\n",
        "    theme: [lux]\n",
        "\n",
        "# author: garretgman accessed 17th April 2025\n",
        "# https://github.com/jjallaire/stock-explorer-dashboard/blob/main/dashboard.qmd\n",
        "---"
      ],
      "id": "e1ff97b7"
    },
    {
      "cell_type": "code",
      "metadata": {
        "tags": [
          "parameters"
        ]
      },
      "source": [
        "# to render w/ a different ticker parameter:\n",
        "# quarto render dashboard.qmd -P ticker:GOOG\n",
        "\n",
        "ticker = \"KKR\""
      ],
      "id": "d59d3fb8",
      "execution_count": null,
      "outputs": []
    },
    {
      "cell_type": "code",
      "metadata": {},
      "source": [
        "import helpers\n",
        "stock = helpers.get_stock(ticker)\n",
        "data = helpers.get_data(stock)"
      ],
      "id": "dd5d63f0",
      "execution_count": null,
      "outputs": []
    },
    {
      "cell_type": "markdown",
      "metadata": {},
      "source": [
        "## Row\n"
      ],
      "id": "13019c73"
    },
    {
      "cell_type": "code",
      "metadata": {},
      "source": [
        "from IPython.display import Markdown\n",
        "Markdown(\"**{symbol}** --- {longName} --- [{website}]({website})\"\n",
        "    .format(**stock.info))"
      ],
      "id": "8a369e94",
      "execution_count": null,
      "outputs": []
    },
    {
      "cell_type": "markdown",
      "metadata": {},
      "source": [
        "## Row\n"
      ],
      "id": "f79ae90b"
    },
    {
      "cell_type": "code",
      "metadata": {
        "content": "valuebox",
        "title": "Current Price"
      },
      "source": [
        "dict(\n",
        "    icon = \"currency-dollar\",\n",
        "    color = \"secondary\",\n",
        "    value = helpers.get_price(data)\n",
        ")"
      ],
      "id": "490786a9",
      "execution_count": null,
      "outputs": []
    },
    {
      "cell_type": "code",
      "metadata": {
        "content": "valuebox",
        "title": "Change"
      },
      "source": [
        "change = helpers.get_change(data)\n",
        "dict(\n",
        "    value = change['amount'],\n",
        "    icon = change['icon'],\n",
        "    color = change['color']\n",
        ") "
      ],
      "id": "b01afa82",
      "execution_count": null,
      "outputs": []
    },
    {
      "cell_type": "code",
      "metadata": {
        "content": "valuebox",
        "title": "Percent Change"
      },
      "source": [
        "dict(\n",
        "    icon = \"percent\",\n",
        "    color = \"light\",\n",
        "    value = change['percent'],\n",
        ") "
      ],
      "id": "32194165",
      "execution_count": null,
      "outputs": []
    },
    {
      "cell_type": "markdown",
      "metadata": {},
      "source": [
        "## Row\n",
        "\n",
        "### Column {width=75%}\n"
      ],
      "id": "b6efacd7"
    },
    {
      "cell_type": "code",
      "metadata": {
        "title": "Price History",
        "padding": 0
      },
      "source": [
        "helpers.make_candlestick_chart(data, ticker.upper())"
      ],
      "id": "893401e0",
      "execution_count": null,
      "outputs": []
    },
    {
      "cell_type": "markdown",
      "metadata": {},
      "source": [
        "### Column {width=25%}\n"
      ],
      "id": "96809558"
    },
    {
      "cell_type": "code",
      "metadata": {},
      "source": [
        "ohlc = helpers.make_OHLC_table(data)"
      ],
      "id": "50d43b06",
      "execution_count": null,
      "outputs": []
    },
    {
      "cell_type": "markdown",
      "metadata": {},
      "source": [
        "::: {.card}\n",
        "\n",
        "#### Last Close: `{python} ohlc['date']`\n",
        "\n",
        "| Close\t | `{python} ohlc['close']`  |\n",
        "|:-------|--------------------------:|\n",
        "| Open\t | `{python} ohlc['open']`   |\n",
        "| High\t | `{python} ohlc['high']`   |\n",
        "| Low\t | `{python} ohlc['low']`    |\n",
        "| Volume | `{python} ohlc['volume']` |\n",
        ": {.striped}\n",
        "\n",
        ":::"
      ],
      "id": "c4103d0a"
    }
  ],
  "metadata": {
    "kernelspec": {
      "name": "python3",
      "language": "python",
      "display_name": "Python 3 (ipykernel)",
      "path": "/Users/mulhr/mysite-1/.venv/share/jupyter/kernels/python3"
    }
  },
  "nbformat": 4,
  "nbformat_minor": 5
}