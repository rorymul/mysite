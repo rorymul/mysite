{
  "cells": [
    {
      "cell_type": "markdown",
      "metadata": {},
      "source": [
        "---\n",
        "title: \"Stock Explorer\"\n",
        "author: \"Ty Coon\"\n",
        "format: \n",
        "  dashboard:\n",
        "    theme: [lux]\n",
        "\n",
        "# author: garretgman accessed 17th April 2025\n",
        "# https://github.com/jjallaire/stock-explorer-dashboard/blob/main/dashboard.qmd\n",
        "---"
      ],
      "id": "bd03911e"
    },
    {
      "cell_type": "code",
      "metadata": {},
      "source": [
        "#| echo: false\n",
        "import time\n",
        "import requests_cache\n",
        "import yfinance as yf\n",
        "\n",
        "# 1) Cache every HTTP request for 15 minutes\n",
        "requests_cache.install_cache(\"yf_cache\", expire_after=900)\n",
        "\n",
        "# 2) Monkey‑patch Ticker.info so it always sleeps 1 s after fetching\n",
        "_orig_info = yf.Ticker.info.fget\n",
        "def _throttled_info(self):\n",
        "    data = _orig_info(self)\n",
        "    time.sleep(1)\n",
        "    return data\n",
        "yf.Ticker.info = property(_throttled_info)"
      ],
      "id": "5b3d4fc5",
      "execution_count": null,
      "outputs": []
    },
    {
      "cell_type": "code",
      "metadata": {
        "tags": [
          "parameters"
        ]
      },
      "source": [
        "# to render w/ a different ticker parameter:\n",
        "# quarto render dashboard.qmd -P ticker:GOOG\n",
        "\n",
        "ticker = \"KKR\""
      ],
      "id": "3a075268",
      "execution_count": null,
      "outputs": []
    },
    {
      "cell_type": "code",
      "metadata": {},
      "source": [
        "import helpers\n",
        "stock = helpers.get_stock(ticker)\n",
        "data = helpers.get_data(stock)"
      ],
      "id": "11572f75",
      "execution_count": null,
      "outputs": []
    },
    {
      "cell_type": "markdown",
      "metadata": {},
      "source": [
        "## Row\n"
      ],
      "id": "afc5c03e"
    },
    {
      "cell_type": "code",
      "metadata": {},
      "source": [
        "from IPython.display import Markdown\n",
        "Markdown(\"**{symbol}** --- {longName} --- [{website}]({website})\"\n",
        "    .format(**stock.info))"
      ],
      "id": "006ceaeb",
      "execution_count": null,
      "outputs": []
    },
    {
      "cell_type": "markdown",
      "metadata": {},
      "source": [
        "## Row\n"
      ],
      "id": "739ab844"
    },
    {
      "cell_type": "code",
      "metadata": {
        "content": "valuebox",
        "title": "Current Price"
      },
      "source": [
        "dict(\n",
        "    icon = \"currency-dollar\",\n",
        "    color = \"secondary\",\n",
        "    value = helpers.get_price(data)\n",
        ")"
      ],
      "id": "ca3e652a",
      "execution_count": null,
      "outputs": []
    },
    {
      "cell_type": "code",
      "metadata": {
        "content": "valuebox",
        "title": "Change"
      },
      "source": [
        "change = helpers.get_change(data)\n",
        "dict(\n",
        "    value = change['amount'],\n",
        "    icon = change['icon'],\n",
        "    color = change['color']\n",
        ") "
      ],
      "id": "b44d2089",
      "execution_count": null,
      "outputs": []
    },
    {
      "cell_type": "code",
      "metadata": {
        "content": "valuebox",
        "title": "Percent Change"
      },
      "source": [
        "dict(\n",
        "    icon = \"percent\",\n",
        "    color = \"light\",\n",
        "    value = change['percent'],\n",
        ") "
      ],
      "id": "e2e23686",
      "execution_count": null,
      "outputs": []
    },
    {
      "cell_type": "markdown",
      "metadata": {},
      "source": [
        "## Row\n",
        "\n",
        "### Column {width=75%}\n"
      ],
      "id": "2fbaaf8e"
    },
    {
      "cell_type": "code",
      "metadata": {
        "title": "Price History",
        "padding": 0
      },
      "source": [
        "helpers.make_candlestick_chart(data, ticker.upper())"
      ],
      "id": "f5cb3155",
      "execution_count": null,
      "outputs": []
    },
    {
      "cell_type": "markdown",
      "metadata": {},
      "source": [
        "### Column {width=25%}\n"
      ],
      "id": "46cc8757"
    },
    {
      "cell_type": "code",
      "metadata": {},
      "source": [
        "ohlc = helpers.make_OHLC_table(data)"
      ],
      "id": "907be5d0",
      "execution_count": null,
      "outputs": []
    },
    {
      "cell_type": "markdown",
      "metadata": {},
      "source": [
        "::: {.card}\n",
        "\n",
        "#### Last Close: `{python} ohlc['date']`\n",
        "\n",
        "| Close\t | `{python} ohlc['close']`  |\n",
        "|:-------|--------------------------:|\n",
        "| Open\t | `{python} ohlc['open']`   |\n",
        "| High\t | `{python} ohlc['high']`   |\n",
        "| Low\t | `{python} ohlc['low']`    |\n",
        "| Volume | `{python} ohlc['volume']` |\n",
        ": {.striped}\n",
        "\n",
        ":::"
      ],
      "id": "87f48bff"
    }
  ],
  "metadata": {
    "kernelspec": {
      "name": "mysite-venv",
      "language": "python",
      "display_name": "mysite-venv",
      "path": "/Users/mulhr/Library/Jupyter/kernels/mysite-venv"
    }
  },
  "nbformat": 4,
  "nbformat_minor": 5
}