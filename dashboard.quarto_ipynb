{
  "cells": [
    {
      "cell_type": "markdown",
      "metadata": {},
      "source": [
        "---\n",
        "title: \"Stock Tracker\"\n",
        "format: dashboard\n",
        "---\n",
        "\n",
        "\n",
        "## Row\n"
      ],
      "id": "b4cad4b6"
    },
    {
      "cell_type": "code",
      "metadata": {
        "component": "valuebox",
        "title": "Current Price"
      },
      "source": [
        "dict(icon = \"currency-dollar\",\n",
        "     color = \"secondary\",\n",
        "     value = get_price(data))"
      ],
      "id": "4863458f",
      "execution_count": null,
      "outputs": []
    },
    {
      "cell_type": "code",
      "metadata": {
        "component": "valuebox",
        "title": "Change"
      },
      "source": [
        "change = get_change(data)\n",
        "dict(value = change['amount'],\n",
        "     icon = change['icon'],\n",
        "     color = change['color']) "
      ],
      "id": "7882ffd0",
      "execution_count": null,
      "outputs": []
    },
    {
      "cell_type": "code",
      "metadata": {
        "tags": [
          "parameters"
        ]
      },
      "source": [
        "ticker = \"BA\""
      ],
      "id": "d654e85f",
      "execution_count": null,
      "outputs": []
    }
  ],
  "metadata": {
    "kernelspec": {
      "name": "python3",
      "language": "python",
      "display_name": "Python 3 (ipykernel)",
      "path": "/opt/anaconda3/share/jupyter/kernels/python3"
    }
  },
  "nbformat": 4,
  "nbformat_minor": 5
}